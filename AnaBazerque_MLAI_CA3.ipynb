{
 "cells": [
  {
   "cell_type": "markdown",
   "metadata": {},
   "source": [
    "# Machine Learning for AI - Classifying Glass Types\n",
    "\n",
    "The goal of this project is to make predictions based on the classification of types of glasses based on their composition. The requirements for achieving this goal are the following according to the project's descriptor:\n",
    "\n",
    "* Perform an initial analysis of the data (EDA) using python in your Jupyter notebook. Discuss findings and what relevance they might have on the planned Neural Network model. \n",
    "* Perform any preparation of the data necessary, using python in the Jupyter notebook. Explain the rationale behind the data preparation and how it will assist the analysis. \n",
    "* Create and implement a Neural Network that will output a classification based on the Type of glass: (class attribute) feature. Test this model and try to improve it using different configurations of neurons/layers/loss functions/activation functions and discuss findings and final rational for the Neural network configuration. \n",
    "* Make a classification using test data, using the final Neural Network configuration and comment on the accuracy differential between the training and testing set. \n",
    "\n",
    "So, we get started by importing all the libraries and classes necessary for the completion of this analysis. "
   ]
  },
  {
   "cell_type": "code",
   "execution_count": 133,
   "metadata": {},
   "outputs": [],
   "source": [
    "# pip install imbalanced-learn"
   ]
  },
  {
   "cell_type": "code",
   "execution_count": 134,
   "metadata": {},
   "outputs": [],
   "source": [
    "import pandas as pd\n",
    "import numpy as np\n",
    "np.set_printoptions(precision=3, suppress=True)\n",
    "\n",
    "import matplotlib.pyplot as plt\n",
    "import seaborn as sns\n",
    "from collections import Counter\n",
    "\n",
    "from sklearn.preprocessing import (StandardScaler, LabelEncoder)\n",
    "from sklearn.model_selection import (train_test_split)\n",
    "from sklearn.tree import DecisionTreeClassifier\n",
    "from sklearn.ensemble import ExtraTreesClassifier\n",
    "from sklearn.metrics import mean_squared_error\n",
    "\n",
    "from imblearn.over_sampling import SMOTE\n",
    "\n",
    "import tensorflow as tf\n",
    "from tensorflow import keras\n",
    "from tensorflow.keras import layers\n",
    "from tensorflow.keras.layers.experimental import preprocessing\n",
    "\n",
    "from keras.models import Sequential\n",
    "from keras.layers import Dense, InputLayer\n",
    "from keras.utils import to_categorical"
   ]
  },
  {
   "cell_type": "markdown",
   "metadata": {},
   "source": [
    "# The Data\n",
    "\n",
    "This is a Glass Identification Database created by B. German from the Home Office Forensic Science Service in the UK and was motivated by crime investigations. A piece of glass at a crime scene can be identified by its composition and may be used as evidence, for example. \n",
    "\n",
    "## Data Dictionary\n",
    "\n",
    "<p>The data used for this analysis is a Glass Identification Data Set. It contains 10 attributes including an ID ranging from 1 to 214. The Type of Glass is a categorical attribute containing seven different classes, represented by integers from 1 to 7. They are as follows.\n",
    "\n",
    "<p>Id number: 1 to 214 <br>\n",
    "RI: refractive index<br>\n",
    "Na: Sodium (unit measurement: weight percent in corresponding oxide, as are attributes 4-10)<br>\n",
    "Mg: Magnesium<br>\n",
    "Al: Aluminum<br>\n",
    "Si: Silicon<br>\n",
    "K: Potassium<br>\n",
    "Ca: Calcium<br>\n",
    "Ba: Barium<br>\n",
    "Fe: Iron<br>\n",
    "Type of Glass: (class attribute) <br>\n",
    "    &nbsp;&nbsp;&nbsp;&nbsp; -- 1 building windows float processed  <br>\n",
    "    &nbsp;&nbsp;&nbsp;&nbsp; -- 2 building windows nonfloat processed <br>\n",
    "    &nbsp;&nbsp;&nbsp;&nbsp; -- 3 vehicle windows float processed <br>\n",
    "    &nbsp;&nbsp;&nbsp;&nbsp; -- 4 vehicle windows nonfloat processed (none in this database) <br>\n",
    "    &nbsp;&nbsp;&nbsp;&nbsp; -- 5 containers <br>\n",
    "    &nbsp;&nbsp;&nbsp;&nbsp; -- 6 tableware <br>\n",
    "    &nbsp;&nbsp;&nbsp;&nbsp; -- 7 headlamps<br>"
   ]
  },
  {
   "cell_type": "markdown",
   "metadata": {},
   "source": [
    "The code below shows the data being loaded from the .csv file into a pandas dataframe, adding the names of the columns, which were not present in the original file. "
   ]
  },
  {
   "cell_type": "code",
   "execution_count": 135,
   "metadata": {},
   "outputs": [
    {
     "data": {
      "text/html": [
       "<div>\n",
       "<style scoped>\n",
       "    .dataframe tbody tr th:only-of-type {\n",
       "        vertical-align: middle;\n",
       "    }\n",
       "\n",
       "    .dataframe tbody tr th {\n",
       "        vertical-align: top;\n",
       "    }\n",
       "\n",
       "    .dataframe thead th {\n",
       "        text-align: right;\n",
       "    }\n",
       "</style>\n",
       "<table border=\"1\" class=\"dataframe\">\n",
       "  <thead>\n",
       "    <tr style=\"text-align: right;\">\n",
       "      <th></th>\n",
       "      <th>RI</th>\n",
       "      <th>Na</th>\n",
       "      <th>Mg</th>\n",
       "      <th>Al</th>\n",
       "      <th>Si</th>\n",
       "      <th>K</th>\n",
       "      <th>Ca</th>\n",
       "      <th>Ba</th>\n",
       "      <th>Fe</th>\n",
       "      <th>Type of Glass</th>\n",
       "    </tr>\n",
       "    <tr>\n",
       "      <th>ID</th>\n",
       "      <th></th>\n",
       "      <th></th>\n",
       "      <th></th>\n",
       "      <th></th>\n",
       "      <th></th>\n",
       "      <th></th>\n",
       "      <th></th>\n",
       "      <th></th>\n",
       "      <th></th>\n",
       "      <th></th>\n",
       "    </tr>\n",
       "  </thead>\n",
       "  <tbody>\n",
       "    <tr>\n",
       "      <th>1</th>\n",
       "      <td>1.52101</td>\n",
       "      <td>13.64</td>\n",
       "      <td>4.49</td>\n",
       "      <td>1.10</td>\n",
       "      <td>71.78</td>\n",
       "      <td>0.06</td>\n",
       "      <td>8.75</td>\n",
       "      <td>0.00</td>\n",
       "      <td>0.0</td>\n",
       "      <td>1</td>\n",
       "    </tr>\n",
       "    <tr>\n",
       "      <th>2</th>\n",
       "      <td>1.51761</td>\n",
       "      <td>13.89</td>\n",
       "      <td>3.60</td>\n",
       "      <td>1.36</td>\n",
       "      <td>72.73</td>\n",
       "      <td>0.48</td>\n",
       "      <td>7.83</td>\n",
       "      <td>0.00</td>\n",
       "      <td>0.0</td>\n",
       "      <td>1</td>\n",
       "    </tr>\n",
       "    <tr>\n",
       "      <th>3</th>\n",
       "      <td>1.51618</td>\n",
       "      <td>13.53</td>\n",
       "      <td>3.55</td>\n",
       "      <td>1.54</td>\n",
       "      <td>72.99</td>\n",
       "      <td>0.39</td>\n",
       "      <td>7.78</td>\n",
       "      <td>0.00</td>\n",
       "      <td>0.0</td>\n",
       "      <td>1</td>\n",
       "    </tr>\n",
       "    <tr>\n",
       "      <th>4</th>\n",
       "      <td>1.51766</td>\n",
       "      <td>13.21</td>\n",
       "      <td>3.69</td>\n",
       "      <td>1.29</td>\n",
       "      <td>72.61</td>\n",
       "      <td>0.57</td>\n",
       "      <td>8.22</td>\n",
       "      <td>0.00</td>\n",
       "      <td>0.0</td>\n",
       "      <td>1</td>\n",
       "    </tr>\n",
       "    <tr>\n",
       "      <th>5</th>\n",
       "      <td>1.51742</td>\n",
       "      <td>13.27</td>\n",
       "      <td>3.62</td>\n",
       "      <td>1.24</td>\n",
       "      <td>73.08</td>\n",
       "      <td>0.55</td>\n",
       "      <td>8.07</td>\n",
       "      <td>0.00</td>\n",
       "      <td>0.0</td>\n",
       "      <td>1</td>\n",
       "    </tr>\n",
       "    <tr>\n",
       "      <th>...</th>\n",
       "      <td>...</td>\n",
       "      <td>...</td>\n",
       "      <td>...</td>\n",
       "      <td>...</td>\n",
       "      <td>...</td>\n",
       "      <td>...</td>\n",
       "      <td>...</td>\n",
       "      <td>...</td>\n",
       "      <td>...</td>\n",
       "      <td>...</td>\n",
       "    </tr>\n",
       "    <tr>\n",
       "      <th>210</th>\n",
       "      <td>1.51623</td>\n",
       "      <td>14.14</td>\n",
       "      <td>0.00</td>\n",
       "      <td>2.88</td>\n",
       "      <td>72.61</td>\n",
       "      <td>0.08</td>\n",
       "      <td>9.18</td>\n",
       "      <td>1.06</td>\n",
       "      <td>0.0</td>\n",
       "      <td>7</td>\n",
       "    </tr>\n",
       "    <tr>\n",
       "      <th>211</th>\n",
       "      <td>1.51685</td>\n",
       "      <td>14.92</td>\n",
       "      <td>0.00</td>\n",
       "      <td>1.99</td>\n",
       "      <td>73.06</td>\n",
       "      <td>0.00</td>\n",
       "      <td>8.40</td>\n",
       "      <td>1.59</td>\n",
       "      <td>0.0</td>\n",
       "      <td>7</td>\n",
       "    </tr>\n",
       "    <tr>\n",
       "      <th>212</th>\n",
       "      <td>1.52065</td>\n",
       "      <td>14.36</td>\n",
       "      <td>0.00</td>\n",
       "      <td>2.02</td>\n",
       "      <td>73.42</td>\n",
       "      <td>0.00</td>\n",
       "      <td>8.44</td>\n",
       "      <td>1.64</td>\n",
       "      <td>0.0</td>\n",
       "      <td>7</td>\n",
       "    </tr>\n",
       "    <tr>\n",
       "      <th>213</th>\n",
       "      <td>1.51651</td>\n",
       "      <td>14.38</td>\n",
       "      <td>0.00</td>\n",
       "      <td>1.94</td>\n",
       "      <td>73.61</td>\n",
       "      <td>0.00</td>\n",
       "      <td>8.48</td>\n",
       "      <td>1.57</td>\n",
       "      <td>0.0</td>\n",
       "      <td>7</td>\n",
       "    </tr>\n",
       "    <tr>\n",
       "      <th>214</th>\n",
       "      <td>1.51711</td>\n",
       "      <td>14.23</td>\n",
       "      <td>0.00</td>\n",
       "      <td>2.08</td>\n",
       "      <td>73.36</td>\n",
       "      <td>0.00</td>\n",
       "      <td>8.62</td>\n",
       "      <td>1.67</td>\n",
       "      <td>0.0</td>\n",
       "      <td>7</td>\n",
       "    </tr>\n",
       "  </tbody>\n",
       "</table>\n",
       "<p>214 rows × 10 columns</p>\n",
       "</div>"
      ],
      "text/plain": [
       "          RI     Na    Mg    Al     Si     K    Ca    Ba   Fe  Type of Glass\n",
       "ID                                                                          \n",
       "1    1.52101  13.64  4.49  1.10  71.78  0.06  8.75  0.00  0.0              1\n",
       "2    1.51761  13.89  3.60  1.36  72.73  0.48  7.83  0.00  0.0              1\n",
       "3    1.51618  13.53  3.55  1.54  72.99  0.39  7.78  0.00  0.0              1\n",
       "4    1.51766  13.21  3.69  1.29  72.61  0.57  8.22  0.00  0.0              1\n",
       "5    1.51742  13.27  3.62  1.24  73.08  0.55  8.07  0.00  0.0              1\n",
       "..       ...    ...   ...   ...    ...   ...   ...   ...  ...            ...\n",
       "210  1.51623  14.14  0.00  2.88  72.61  0.08  9.18  1.06  0.0              7\n",
       "211  1.51685  14.92  0.00  1.99  73.06  0.00  8.40  1.59  0.0              7\n",
       "212  1.52065  14.36  0.00  2.02  73.42  0.00  8.44  1.64  0.0              7\n",
       "213  1.51651  14.38  0.00  1.94  73.61  0.00  8.48  1.57  0.0              7\n",
       "214  1.51711  14.23  0.00  2.08  73.36  0.00  8.62  1.67  0.0              7\n",
       "\n",
       "[214 rows x 10 columns]"
      ]
     },
     "execution_count": 135,
     "metadata": {},
     "output_type": "execute_result"
    }
   ],
   "source": [
    "path = 'glass_data.csv'\n",
    "columns = ['ID', 'RI', 'Na', 'Mg', 'Al', 'Si', 'K', 'Ca', 'Ba', 'Fe', 'Type of Glass']\n",
    "df = pd.read_csv(path, names=columns)\n",
    "df = df.set_index('ID\n",
    "df"
   ]
  },
  {
   "cell_type": "markdown",
   "metadata": {},
   "source": [
    "# EDA and Cleaning\n",
    "\n",
    "The .info() method applied to the df dataframe shows that the data is all numerical except for the target variable Type of Glass. It also shows that there are no null values in the data. "
   ]
  },
  {
   "cell_type": "code",
   "execution_count": 136,
   "metadata": {
    "scrolled": true
   },
   "outputs": [
    {
     "name": "stdout",
     "output_type": "stream",
     "text": [
      "<class 'pandas.core.frame.DataFrame'>\n",
      "Int64Index: 214 entries, 1 to 214\n",
      "Data columns (total 10 columns):\n",
      " #   Column         Non-Null Count  Dtype  \n",
      "---  ------         --------------  -----  \n",
      " 0   RI             214 non-null    float64\n",
      " 1   Na             214 non-null    float64\n",
      " 2   Mg             214 non-null    float64\n",
      " 3   Al             214 non-null    float64\n",
      " 4   Si             214 non-null    float64\n",
      " 5   K              214 non-null    float64\n",
      " 6   Ca             214 non-null    float64\n",
      " 7   Ba             214 non-null    float64\n",
      " 8   Fe             214 non-null    float64\n",
      " 9   Type of Glass  214 non-null    int64  \n",
      "dtypes: float64(9), int64(1)\n",
      "memory usage: 18.4 KB\n"
     ]
    }
   ],
   "source": [
    "df.info()"
   ]
  },
  {
   "cell_type": "markdown",
   "metadata": {},
   "source": [
    "The next step is to verify if the data contains duplicate record and remove in case there is any."
   ]
  },
  {
   "cell_type": "code",
   "execution_count": 137,
   "metadata": {},
   "outputs": [
    {
     "name": "stdout",
     "output_type": "stream",
     "text": [
      "1\n"
     ]
    }
   ],
   "source": [
    "print(df.duplicated().sum()) "
   ]
  },
  {
   "cell_type": "code",
   "execution_count": 138,
   "metadata": {},
   "outputs": [
    {
     "name": "stdout",
     "output_type": "stream",
     "text": [
      "0\n"
     ]
    }
   ],
   "source": [
    "df = df.drop_duplicates()\n",
    "print(df.duplicated().sum()) "
   ]
  },
  {
   "cell_type": "markdown",
   "metadata": {},
   "source": [
    "From the below description, it is possible to say that all the Glass Types have average high levels of Silicon (Si). The range is the Si values is also much higher than the other columns and will need scaling before the data is fed to the model training. "
   ]
  },
  {
   "cell_type": "code",
   "execution_count": 139,
   "metadata": {},
   "outputs": [
    {
     "data": {
      "text/html": [
       "<div>\n",
       "<style scoped>\n",
       "    .dataframe tbody tr th:only-of-type {\n",
       "        vertical-align: middle;\n",
       "    }\n",
       "\n",
       "    .dataframe tbody tr th {\n",
       "        vertical-align: top;\n",
       "    }\n",
       "\n",
       "    .dataframe thead th {\n",
       "        text-align: right;\n",
       "    }\n",
       "</style>\n",
       "<table border=\"1\" class=\"dataframe\">\n",
       "  <thead>\n",
       "    <tr style=\"text-align: right;\">\n",
       "      <th></th>\n",
       "      <th>RI</th>\n",
       "      <th>Na</th>\n",
       "      <th>Mg</th>\n",
       "      <th>Al</th>\n",
       "      <th>Si</th>\n",
       "      <th>K</th>\n",
       "      <th>Ca</th>\n",
       "      <th>Ba</th>\n",
       "      <th>Fe</th>\n",
       "      <th>Type of Glass</th>\n",
       "    </tr>\n",
       "  </thead>\n",
       "  <tbody>\n",
       "    <tr>\n",
       "      <th>count</th>\n",
       "      <td>213.000000</td>\n",
       "      <td>213.000000</td>\n",
       "      <td>213.000000</td>\n",
       "      <td>213.000000</td>\n",
       "      <td>213.000000</td>\n",
       "      <td>213.000000</td>\n",
       "      <td>213.000000</td>\n",
       "      <td>213.000000</td>\n",
       "      <td>213.000000</td>\n",
       "      <td>213.000000</td>\n",
       "    </tr>\n",
       "    <tr>\n",
       "      <th>mean</th>\n",
       "      <td>1.518348</td>\n",
       "      <td>13.404085</td>\n",
       "      <td>2.679202</td>\n",
       "      <td>1.449484</td>\n",
       "      <td>72.655070</td>\n",
       "      <td>0.498873</td>\n",
       "      <td>8.954085</td>\n",
       "      <td>0.175869</td>\n",
       "      <td>0.057277</td>\n",
       "      <td>2.788732</td>\n",
       "    </tr>\n",
       "    <tr>\n",
       "      <th>std</th>\n",
       "      <td>0.003033</td>\n",
       "      <td>0.816662</td>\n",
       "      <td>1.443691</td>\n",
       "      <td>0.495925</td>\n",
       "      <td>0.773998</td>\n",
       "      <td>0.653185</td>\n",
       "      <td>1.425882</td>\n",
       "      <td>0.498245</td>\n",
       "      <td>0.097589</td>\n",
       "      <td>2.105130</td>\n",
       "    </tr>\n",
       "    <tr>\n",
       "      <th>min</th>\n",
       "      <td>1.511150</td>\n",
       "      <td>10.730000</td>\n",
       "      <td>0.000000</td>\n",
       "      <td>0.290000</td>\n",
       "      <td>69.810000</td>\n",
       "      <td>0.000000</td>\n",
       "      <td>5.430000</td>\n",
       "      <td>0.000000</td>\n",
       "      <td>0.000000</td>\n",
       "      <td>1.000000</td>\n",
       "    </tr>\n",
       "    <tr>\n",
       "      <th>25%</th>\n",
       "      <td>1.516520</td>\n",
       "      <td>12.900000</td>\n",
       "      <td>2.090000</td>\n",
       "      <td>1.190000</td>\n",
       "      <td>72.280000</td>\n",
       "      <td>0.130000</td>\n",
       "      <td>8.240000</td>\n",
       "      <td>0.000000</td>\n",
       "      <td>0.000000</td>\n",
       "      <td>1.000000</td>\n",
       "    </tr>\n",
       "    <tr>\n",
       "      <th>50%</th>\n",
       "      <td>1.517680</td>\n",
       "      <td>13.300000</td>\n",
       "      <td>3.480000</td>\n",
       "      <td>1.360000</td>\n",
       "      <td>72.790000</td>\n",
       "      <td>0.560000</td>\n",
       "      <td>8.600000</td>\n",
       "      <td>0.000000</td>\n",
       "      <td>0.000000</td>\n",
       "      <td>2.000000</td>\n",
       "    </tr>\n",
       "    <tr>\n",
       "      <th>75%</th>\n",
       "      <td>1.519150</td>\n",
       "      <td>13.810000</td>\n",
       "      <td>3.600000</td>\n",
       "      <td>1.630000</td>\n",
       "      <td>73.090000</td>\n",
       "      <td>0.610000</td>\n",
       "      <td>9.150000</td>\n",
       "      <td>0.000000</td>\n",
       "      <td>0.100000</td>\n",
       "      <td>3.000000</td>\n",
       "    </tr>\n",
       "    <tr>\n",
       "      <th>max</th>\n",
       "      <td>1.533930</td>\n",
       "      <td>17.380000</td>\n",
       "      <td>4.490000</td>\n",
       "      <td>3.500000</td>\n",
       "      <td>75.410000</td>\n",
       "      <td>6.210000</td>\n",
       "      <td>16.190000</td>\n",
       "      <td>3.150000</td>\n",
       "      <td>0.510000</td>\n",
       "      <td>7.000000</td>\n",
       "    </tr>\n",
       "  </tbody>\n",
       "</table>\n",
       "</div>"
      ],
      "text/plain": [
       "               RI          Na          Mg          Al          Si           K  \\\n",
       "count  213.000000  213.000000  213.000000  213.000000  213.000000  213.000000   \n",
       "mean     1.518348   13.404085    2.679202    1.449484   72.655070    0.498873   \n",
       "std      0.003033    0.816662    1.443691    0.495925    0.773998    0.653185   \n",
       "min      1.511150   10.730000    0.000000    0.290000   69.810000    0.000000   \n",
       "25%      1.516520   12.900000    2.090000    1.190000   72.280000    0.130000   \n",
       "50%      1.517680   13.300000    3.480000    1.360000   72.790000    0.560000   \n",
       "75%      1.519150   13.810000    3.600000    1.630000   73.090000    0.610000   \n",
       "max      1.533930   17.380000    4.490000    3.500000   75.410000    6.210000   \n",
       "\n",
       "               Ca          Ba          Fe  Type of Glass  \n",
       "count  213.000000  213.000000  213.000000     213.000000  \n",
       "mean     8.954085    0.175869    0.057277       2.788732  \n",
       "std      1.425882    0.498245    0.097589       2.105130  \n",
       "min      5.430000    0.000000    0.000000       1.000000  \n",
       "25%      8.240000    0.000000    0.000000       1.000000  \n",
       "50%      8.600000    0.000000    0.000000       2.000000  \n",
       "75%      9.150000    0.000000    0.100000       3.000000  \n",
       "max     16.190000    3.150000    0.510000       7.000000  "
      ]
     },
     "execution_count": 139,
     "metadata": {},
     "output_type": "execute_result"
    }
   ],
   "source": [
    "df.describe()"
   ]
  },
  {
   "cell_type": "markdown",
   "metadata": {},
   "source": [
    "By plotting a boxplot of the distribution of each glass type for every column, we identify several outliers within the dataset. In statistics, an outlier is an observation point that is distant from other observations. Outliers can have a negative impact on the model's accuracy (ref). The need to be removed in order to make the data more coherent. The plot shows outliers for all the nine features. "
   ]
  },
  {
   "cell_type": "code",
   "execution_count": 140,
   "metadata": {},
   "outputs": [
    {
     "data": {
      "image/png": "[encoded data removed]",
      "text/plain": [
       "<Figure size 720x2160 with 9 Axes>"
      ]
     },
     "metadata": {
      "needs_background": "light"
     },
     "output_type": "display_data"
    }
   ],
   "source": [
    "plot_X = df.iloc[:,:-1]\n",
    "plot_y = df.iloc[:,-1]\n",
    "plt.figure(figsize=(10,30))\n",
    "for i,col in enumerate(plot_X,1):\n",
    "    plt.subplot(10,1,i)\n",
    "    sns.boxplot(y=col,x=plot_y, data=plot_X)\n",
    "plt.show()"
   ]
  },
  {
   "cell_type": "markdown",
   "metadata": {},
   "source": [
    "In the following two cells, we will use IQR to find the outliers in the dataframe so that we can delete them. The interquartile range IQR shows the range where most of the values lie. The interquartile range is calculated by subtracting the first quartile from the third quartile. <br>IQR = Q3 - Q1"
   ]
  },
  {
   "cell_type": "code",
   "execution_count": 141,
   "metadata": {},
   "outputs": [
    {
     "name": "stdout",
     "output_type": "stream",
     "text": [
      "[104, 106, 107, 108, 111, 112, 185, 186, 190, 164, 172, 173, 192, 193, 196, 197, 198, 199, 200, 203, 209, 210, 202, 187, 208]\n",
      "The dataset contains 25 observations with more than 2 outliers\n"
     ]
    }
   ],
   "source": [
    "columns = df.columns.tolist()\n",
    "\n",
    "def outliers(df):   \n",
    "    outlier = []   \n",
    "    \n",
    "    for col in columns:        \n",
    "        Q1 = np.percentile(df[col], 25)       \n",
    "        Q3 = np.percentile(df[col],75)        \n",
    "        IQR = Q3 - Q1\n",
    "              \n",
    "        outlier_step = 1.5 * IQR        \n",
    "        outlier_list_col = df[(df[col] < Q1 - outlier_step) | (df[col] > Q3 + outlier_step )].index\n",
    "        outlier.extend(outlier_list_col)\n",
    "        \n",
    "    outlier = Counter(outlier)        \n",
    "    multiple_outliers = list( k for k, v in outlier.items() if v > 2 )\n",
    "    print(multiple_outliers) \n",
    "    return multiple_outliers   \n",
    "\n",
    "print('The dataset contains %d observations with more than 2 outliers' %(len(outliers(df[columns]))))  \n"
   ]
  },
  {
   "cell_type": "markdown",
   "metadata": {},
   "source": [
    "The method above found a total of 25 records with more than two outliers. These observations will be next removed from the data as it can be seen in the cell below. "
   ]
  },
  {
   "cell_type": "code",
   "execution_count": 142,
   "metadata": {},
   "outputs": [
    {
     "name": "stdout",
     "output_type": "stream",
     "text": [
      "[104, 106, 107, 108, 111, 112, 185, 186, 190, 164, 172, 173, 192, 193, 196, 197, 198, 199, 200, 203, 209, 210, 202, 187, 208]\n",
      "(188, 10)\n"
     ]
    }
   ],
   "source": [
    "outlier = outliers(df[columns])\n",
    "df = df.drop(outlier).reset_index(drop=True)\n",
    "print(df.shape)"
   ]
  },
  {
   "cell_type": "markdown",
   "metadata": {},
   "source": [
    "The same boxplot is drawn again to show the dataset now with the reduced number of outliers. For this specific case there are still some outliers left, but since the number of observations is small, we chose not to delete anymore of them. "
   ]
  },
  {
   "cell_type": "code",
   "execution_count": 143,
   "metadata": {},
   "outputs": [],
   "source": [
    "plot_X = df.iloc[:,:-1]\n",
    "plot_y = df.iloc[:,-1]\n",
    "plt.figure(figsize=(10,30))\n",
    "for i,col in enumerate(plot_X,1):\n",
    "    plt.subplot(10,1,i)\n",
    "    sns.boxplot(y=col,x=plot_y, data=plot_X)\n",
    "plt.show()"
   ]
  },
  {
   "cell_type": "markdown",
   "metadata": {},
   "source": [
    "Now we will plot the distribution of the data among the types of glass. The dataset is not evenly distributed, having a much larger amount of glass from type 1 and 2, while having none from type 4. "
   ]
  },
  {
   "cell_type": "code",
   "execution_count": 144,
   "metadata": {},
   "outputs": [
    {
     "data": {
      "image/png": "[encoded data removed]",
      "text/plain": [
       "<Figure size 432x288 with 1 Axes>"
      ]
     },
     "metadata": {
      "needs_background": "light"
     },
     "output_type": "display_data"
    }
   ],
   "source": [
    "sns.countplot(df['Type of Glass'])\n",
    "plt.show()"
   ]
  },
  {
   "cell_type": "code",
   "execution_count": 145,
   "metadata": {},
   "outputs": [],
   "source": [
    "features = df.iloc[:,:-1]\n",
    "plt.figure(figsize = (20,16))\n",
    "n=0\n",
    "for i in features:\n",
    "    n+=1\n",
    "    plt.subplot(3,3,n)\n",
    "    plt.subplots_adjust(hspace = 0.3,wspace = 0.3)\n",
    "    plot = sns.barplot(x = \"Type of Glass\", y = i,ci = None, data = df)\n",
    "    for p in plot.patches:\n",
    "        plot.annotate(format(p.get_height(), '.1f'),\n",
    "                   (p.get_x() + p.get_width() / 2.,p.get_height()), \n",
    "                   ha = 'center', va = 'center', \n",
    "                   size=15,\n",
    "                   xytext = (0, -12), \n",
    "                   textcoords = 'offset points')\n",
    "    plt.title = ('Plot of {i}')\n",
    "    plt.xlabel = ('Type of Glass')\n",
    "    plt.ylabel = ('{i}')\n",
    "plt.show()"
   ]
  },
  {
   "cell_type": "markdown",
   "metadata": {},
   "source": [
    "The distribution of features in each of the types is also not even, being Barium (Ba) the most skewed, as seen in the visualizations above and below. "
   ]
  },
  {
   "cell_type": "code",
   "execution_count": 146,
   "metadata": {},
   "outputs": [],
   "source": [
    "cols = df.columns.tolist()\n",
    "sns.pairplot(df[cols])"
   ]
  },
  {
   "cell_type": "markdown",
   "metadata": {},
   "source": []
  },
  {
   "cell_type": "markdown",
   "metadata": {},
   "source": [
    "We also need to understand the importance of each element/feature on the \"Type of Glass\" value. For that we will slice the dataframe to select our feature and target variables to then apply the feature_importances_ class of the Extra Trees Classifier library from sklearn. The feature importance assigns a score to each feature of the data; the higher the score, the more important or meaningful the feature is to the output variable. In case any of the features' importance is negligible, it could be discarded, reducing the data's dimensionality. Although, it is not the case as the graph below shows. "
   ]
  },
  {
   "cell_type": "code",
   "execution_count": 147,
   "metadata": {},
   "outputs": [
    {
     "name": "stdout",
     "output_type": "stream",
     "text": [
      "[0.142 0.097 0.168 0.141 0.095 0.105 0.127 0.065 0.06 ]\n"
     ]
    },
    {
     "data": {
      "image/png": "[encoded data removed]",
      "text/plain": [
       "<Figure size 432x288 with 1 Axes>"
      ]
     },
     "metadata": {
      "needs_background": "light"
     },
     "output_type": "display_data"
    }
   ],
   "source": [
    "plot_X = df.iloc[:,:-1]\n",
    "plot_y = df.iloc[:,-1]\n",
    "model = ExtraTreesClassifier()\n",
    "model.fit(plot_X,plot_y)\n",
    "print(model.feature_importances_) \n",
    "feat_importances = pd.Series(model.feature_importances_, index=plot_X.columns)\n",
    "feat_importances.nlargest(9).plot(kind='bar')\n",
    "plt.show()"
   ]
  },
  {
   "cell_type": "markdown",
   "metadata": {},
   "source": []
  },
  {
   "cell_type": "markdown",
   "metadata": {},
   "source": [
    "# Data Preparation\n",
    "\n",
    "At this stage we will be addressing the issues that surfaced during the exploratory analysis. "
   ]
  },
  {
   "cell_type": "markdown",
   "metadata": {},
   "source": []
  },
  {
   "cell_type": "code",
   "execution_count": 148,
   "metadata": {},
   "outputs": [
    {
     "name": "stdout",
     "output_type": "stream",
     "text": [
      "0.8.0\n"
     ]
    }
   ],
   "source": [
    "import imblearn\n",
    "print(imblearn.__version__)"
   ]
  },
  {
   "cell_type": "markdown",
   "metadata": {},
   "source": []
  },
  {
   "cell_type": "markdown",
   "metadata": {},
   "source": [
    "The first action to prepare the data to feed the model will be to deal with the distribution of the classes for the target variable. For that we will use Synthetic Minority Oversampling TEchnique, or SMOTE for short, from the imbalanced-learn library for Python. SMOTE works by selecting examples that are close in the feature space, drawing a line between the examples in the feature space and drawing a new sample at a point along that line (Brownlee, 2020 b)."
   ]
  },
  {
   "cell_type": "code",
   "execution_count": 149,
   "metadata": {},
   "outputs": [],
   "source": [
    "X = df[['RI', 'Na', 'Mg', 'Al', 'Si', 'K', 'Ca', 'Ba', 'Fe']]\n",
    "y = df[['Type of Glass']]"
   ]
  },
  {
   "cell_type": "markdown",
   "metadata": {},
   "source": [
    "After separating the dataframe into features (X) and target (y), we need to encode the target labels in order to apply the oversample method to both X and y. Again, due to the reduced size of the dataset, we will be oversampling the full dataset instead of the recommended resampling og only the train variables, so that we have a little more data to work with. We are using the default mode of SMOTE, which creates new records for the minority classes based on the class with the most observations. This results in a fully balanced dataset with each of the classes containing 70 observations.  "
   ]
  },
  {
   "cell_type": "code",
   "execution_count": 150,
   "metadata": {},
   "outputs": [
    {
     "name": "stdout",
     "output_type": "stream",
     "text": [
      "Class=0, n=70 (16.667%)\n",
      "Class=1, n=70 (16.667%)\n",
      "Class=2, n=70 (16.667%)\n",
      "Class=3, n=70 (16.667%)\n",
      "Class=4, n=70 (16.667%)\n",
      "Class=5, n=70 (16.667%)\n"
     ]
    },
    {
     "name": "stderr",
     "output_type": "stream",
     "text": [
      "C:\\ProgramData\\Anaconda3\\lib\\site-packages\\sklearn\\utils\\validation.py:63: DataConversionWarning: A column-vector y was passed when a 1d array was expected. Please change the shape of y to (n_samples, ), for example using ravel().\n",
      "  return f(*args, **kwargs)\n"
     ]
    }
   ],
   "source": [
    "y = LabelEncoder().fit_transform(y)\n",
    "y = y.ravel()\n",
    "oversample = SMOTE()\n",
    "X, y = oversample.fit_resample(X, y)\n",
    "\n",
    "counter = Counter(y)\n",
    "for k,v in counter.items():\n",
    "\tper = v / len(y) * 100\n",
    "\tprint('Class=%d, n=%d (%.3f%%)' % (k, v, per))"
   ]
  },
  {
   "cell_type": "markdown",
   "metadata": {},
   "source": [
    "Although balanced, the data is yet measured on different scales as we mention previously in the data exploration. We can see in the graph below that the range for the Silicon values is much higher than the rest of the elements in the composition of glass. This can cause the model to misinterpret inputs."
   ]
  },
  {
   "cell_type": "code",
   "execution_count": 151,
   "metadata": {},
   "outputs": [
    {
     "data": {
      "text/plain": [
       "<matplotlib.axes._subplots.AxesSubplot at 0x1cac9e71ca0>"
      ]
     },
     "execution_count": 151,
     "metadata": {},
     "output_type": "execute_result"
    },
    {
     "data": {
      "image/png": "[encoded data removed]",
      "text/plain": [
       "<Figure size 432x288 with 1 Axes>"
      ]
     },
     "metadata": {
      "needs_background": "light"
     },
     "output_type": "display_data"
    }
   ],
   "source": [
    "X.plot()"
   ]
  },
  {
   "cell_type": "markdown",
   "metadata": {},
   "source": [
    "To fix that we will use StandardScaler() in our X variable so that it will transform the data and make it all be within the same range before we split the data."
   ]
  },
  {
   "cell_type": "code",
   "execution_count": 152,
   "metadata": {},
   "outputs": [
    {
     "data": {
      "text/plain": [
       "array([[ 1.225,  0.084,  1.562, ..., -0.436, -0.429, -0.511],\n",
       "       [-0.377,  0.395,  0.969, ..., -1.208, -0.429, -0.511],\n",
       "       [-1.051, -0.053,  0.936, ..., -1.25 , -0.429, -0.511],\n",
       "       ...,\n",
       "       [-0.748,  1.221, -1.417, ..., -0.628,  2.521,  0.274],\n",
       "       [-0.667,  1.484, -1.427, ..., -0.687,  2.643,  0.106],\n",
       "       [-0.708,  1.274, -1.427, ..., -0.638,  2.556,  0.019]])"
      ]
     },
     "execution_count": 152,
     "metadata": {},
     "output_type": "execute_result"
    }
   ],
   "source": [
    "X = StandardScaler().fit_transform(X)\n",
    "X"
   ]
  },
  {
   "cell_type": "code",
   "execution_count": 153,
   "metadata": {},
   "outputs": [],
   "source": [
    "X_train, X_test, y_train, y_test = train_test_split(X, y, test_size= 0.2, random_state=1)"
   ]
  },
  {
   "cell_type": "markdown",
   "metadata": {},
   "source": [
    "After slicing the X and y into the training and testing data, with the test size being of 20 percent of the full data, and a random state of 1, there is only one last step before building the model. Using the method to_categorical(), the y variables which have integers that represent different categories, is converted into a numpy array with binary values and has columns equal to the number of categories in the data (GeeksforGeeks, 2020)."
   ]
  },
  {
   "cell_type": "code",
   "execution_count": 154,
   "metadata": {},
   "outputs": [],
   "source": [
    "y_train = to_categorical(y_train)\n",
    "y_test = to_categorical(y_test)"
   ]
  },
  {
   "cell_type": "markdown",
   "metadata": {},
   "source": [
    "# Modeling\n",
    "\n",
    "According to Ray (2018), for building a deep learning model, we need to define the layers (Input, Hidden, and Output). Here, we will go ahead with a sequential model, which means that layers we will define sequentially. The first is the input layer which is specified while creating the layer with the input dim argument and setting it to nine for the nine independent variables.<br><br>\n",
    "Next, we define the number of hidden layers along with the number of neurons and activation functions. The right number can be achieved by going through multiple iterations. Higher the number, more complex is your model. For this model we will use four hidden layers with 400, 300, 200, and 100 neurons consecutively. They will have an activation function \"relu\".<br><br>\n",
    "Finally, we define the output layer with six neurons, which is the size of the output matrix, this time, using s \"softmax\" activation function (Ray, 2018). See mode summary below."
   ]
  },
  {
   "cell_type": "code",
   "execution_count": 155,
   "metadata": {},
   "outputs": [],
   "source": [
    "model = Sequential()\n",
    "model.add(InputLayer(9,))\n",
    "model.add(Dense(units = 400,activation = 'relu'))\n",
    "model.add(Dense(units = 300,activation = 'relu'))\n",
    "model.add(Dense(units = 200,activation = 'relu'))\n",
    "model.add(Dense(units = 100,activation = 'relu'))\n",
    "model.add(Dense(units = 6,activation = 'softmax'))"
   ]
  },
  {
   "cell_type": "code",
   "execution_count": 156,
   "metadata": {},
   "outputs": [
    {
     "name": "stdout",
     "output_type": "stream",
     "text": [
      "Model: \"sequential_7\"\n",
      "_________________________________________________________________\n",
      "Layer (type)                 Output Shape              Param #   \n",
      "=================================================================\n",
      "dense_24 (Dense)             (None, 400)               4000      \n",
      "_________________________________________________________________\n",
      "dense_25 (Dense)             (None, 300)               120300    \n",
      "_________________________________________________________________\n",
      "dense_26 (Dense)             (None, 200)               60200     \n",
      "_________________________________________________________________\n",
      "dense_27 (Dense)             (None, 100)               20100     \n",
      "_________________________________________________________________\n",
      "dense_28 (Dense)             (None, 6)                 606       \n",
      "=================================================================\n",
      "Total params: 205,206\n",
      "Trainable params: 205,206\n",
      "Non-trainable params: 0\n",
      "_________________________________________________________________\n"
     ]
    }
   ],
   "source": [
    "model.summary()"
   ]
  },
  {
   "cell_type": "markdown",
   "metadata": {},
   "source": [
    "Now we need to configure the model for training. This will set the optimizer to change the weights and biases, and the loss function and metric to evaluate the model’s performance. Here, we will use “adam” as the optimizer, “accuracy” as the loss metric. For multiclass classification, we use “binary-crossentropy” from keras as a loss function."
   ]
  },
  {
   "cell_type": "code",
   "execution_count": 157,
   "metadata": {},
   "outputs": [],
   "source": [
    "model.compile(optimizer='adam',\n",
    "              loss=tf.keras.losses.CategoricalCrossentropy(),\n",
    "              metrics=['accuracy'])"
   ]
  },
  {
   "cell_type": "markdown",
   "metadata": {},
   "source": [
    "The final step is fitting the model on the training dataset. Here we pass both X and y variables along with the number of epochs (50), representing the training iterations, as well as the batch size for each epoch, here set to 10. Now, the model is ready for the training. "
   ]
  },
  {
   "cell_type": "code",
   "execution_count": 158,
   "metadata": {},
   "outputs": [
    {
     "name": "stdout",
     "output_type": "stream",
     "text": [
      "Epoch 1/50\n",
      "34/34 [==============================] - 1s 4ms/step - loss: 1.3270 - accuracy: 0.5643\n",
      "Epoch 2/50\n",
      "34/34 [==============================] - 0s 4ms/step - loss: 0.5151 - accuracy: 0.7948\n",
      "Epoch 3/50\n",
      "34/34 [==============================] - 0s 3ms/step - loss: 0.4361 - accuracy: 0.8193\n",
      "Epoch 4/50\n",
      "34/34 [==============================] - 0s 3ms/step - loss: 0.4283 - accuracy: 0.8439\n",
      "Epoch 5/50\n",
      "34/34 [==============================] - 0s 3ms/step - loss: 0.2877 - accuracy: 0.8957\n",
      "Epoch 6/50\n",
      "34/34 [==============================] - 0s 3ms/step - loss: 0.2345 - accuracy: 0.9053\n",
      "Epoch 7/50\n",
      "34/34 [==============================] - 0s 3ms/step - loss: 0.2344 - accuracy: 0.9141\n",
      "Epoch 8/50\n",
      "34/34 [==============================] - 0s 3ms/step - loss: 0.2106 - accuracy: 0.9242\n",
      "Epoch 9/50\n",
      "34/34 [==============================] - 0s 3ms/step - loss: 0.1673 - accuracy: 0.9240\n",
      "Epoch 10/50\n",
      "34/34 [==============================] - 0s 3ms/step - loss: 0.1412 - accuracy: 0.9395\n",
      "Epoch 11/50\n",
      "34/34 [==============================] - 0s 4ms/step - loss: 0.1518 - accuracy: 0.9307\n",
      "Epoch 12/50\n",
      "34/34 [==============================] - 0s 4ms/step - loss: 0.1490 - accuracy: 0.9476\n",
      "Epoch 13/50\n",
      "34/34 [==============================] - 0s 3ms/step - loss: 0.1716 - accuracy: 0.9191\n",
      "Epoch 14/50\n",
      "34/34 [==============================] - 0s 3ms/step - loss: 0.1396 - accuracy: 0.9285\n",
      "Epoch 15/50\n",
      "34/34 [==============================] - 0s 3ms/step - loss: 0.1285 - accuracy: 0.9402\n",
      "Epoch 16/50\n",
      "34/34 [==============================] - 0s 3ms/step - loss: 0.1572 - accuracy: 0.9350\n",
      "Epoch 17/50\n",
      "34/34 [==============================] - 0s 3ms/step - loss: 0.0924 - accuracy: 0.9727\n",
      "Epoch 18/50\n",
      "34/34 [==============================] - 0s 3ms/step - loss: 0.1266 - accuracy: 0.9524\n",
      "Epoch 19/50\n",
      "34/34 [==============================] - 0s 3ms/step - loss: 0.0821 - accuracy: 0.9772\n",
      "Epoch 20/50\n",
      "34/34 [==============================] - 0s 3ms/step - loss: 0.0984 - accuracy: 0.9377\n",
      "Epoch 21/50\n",
      "34/34 [==============================] - 0s 3ms/step - loss: 0.0885 - accuracy: 0.9711\n",
      "Epoch 22/50\n",
      "34/34 [==============================] - 0s 4ms/step - loss: 0.1474 - accuracy: 0.9313\n",
      "Epoch 23/50\n",
      "34/34 [==============================] - 0s 4ms/step - loss: 0.0840 - accuracy: 0.9764\n",
      "Epoch 24/50\n",
      "34/34 [==============================] - 0s 3ms/step - loss: 0.1066 - accuracy: 0.9624\n",
      "Epoch 25/50\n",
      "34/34 [==============================] - 0s 3ms/step - loss: 0.2727 - accuracy: 0.9184\n",
      "Epoch 26/50\n",
      "34/34 [==============================] - 0s 3ms/step - loss: 0.3199 - accuracy: 0.9330\n",
      "Epoch 27/50\n",
      "34/34 [==============================] - 0s 3ms/step - loss: 0.1395 - accuracy: 0.9629\n",
      "Epoch 28/50\n",
      "34/34 [==============================] - 0s 3ms/step - loss: 0.1111 - accuracy: 0.9584\n",
      "Epoch 29/50\n",
      "34/34 [==============================] - 0s 3ms/step - loss: 0.0901 - accuracy: 0.9562\n",
      "Epoch 30/50\n",
      "34/34 [==============================] - 0s 3ms/step - loss: 0.0492 - accuracy: 0.9783\n",
      "Epoch 31/50\n",
      "34/34 [==============================] - 0s 3ms/step - loss: 0.0758 - accuracy: 0.9742\n",
      "Epoch 32/50\n",
      "34/34 [==============================] - 0s 3ms/step - loss: 0.0455 - accuracy: 0.9886\n",
      "Epoch 33/50\n",
      "34/34 [==============================] - 0s 3ms/step - loss: 0.0473 - accuracy: 0.9933\n",
      "Epoch 34/50\n",
      "34/34 [==============================] - 0s 3ms/step - loss: 0.0570 - accuracy: 0.9775\n",
      "Epoch 35/50\n",
      "34/34 [==============================] - 0s 3ms/step - loss: 0.0446 - accuracy: 0.9852\n",
      "Epoch 36/50\n",
      "34/34 [==============================] - 0s 3ms/step - loss: 0.0664 - accuracy: 0.9666\n",
      "Epoch 37/50\n",
      "34/34 [==============================] - 0s 3ms/step - loss: 0.0560 - accuracy: 0.9739\n",
      "Epoch 38/50\n",
      "34/34 [==============================] - 0s 3ms/step - loss: 0.0665 - accuracy: 0.9788\n",
      "Epoch 39/50\n",
      "34/34 [==============================] - 0s 3ms/step - loss: 0.0651 - accuracy: 0.9764\n",
      "Epoch 40/50\n",
      "34/34 [==============================] - 0s 3ms/step - loss: 0.0463 - accuracy: 0.9798\n",
      "Epoch 41/50\n",
      "34/34 [==============================] - 0s 3ms/step - loss: 0.0412 - accuracy: 0.9819\n",
      "Epoch 42/50\n",
      "34/34 [==============================] - 0s 3ms/step - loss: 0.0271 - accuracy: 0.9899\n",
      "Epoch 43/50\n",
      "34/34 [==============================] - 0s 3ms/step - loss: 0.0280 - accuracy: 0.9960\n",
      "Epoch 44/50\n",
      "34/34 [==============================] - 0s 3ms/step - loss: 0.0251 - accuracy: 0.9891\n",
      "Epoch 45/50\n",
      "34/34 [==============================] - 0s 3ms/step - loss: 0.0201 - accuracy: 0.9982\n",
      "Epoch 46/50\n",
      "34/34 [==============================] - 0s 3ms/step - loss: 0.0249 - accuracy: 0.9786\n",
      "Epoch 47/50\n",
      "34/34 [==============================] - 0s 3ms/step - loss: 0.0300 - accuracy: 0.9949\n",
      "Epoch 48/50\n",
      "34/34 [==============================] - 0s 3ms/step - loss: 0.0671 - accuracy: 0.9750\n",
      "Epoch 49/50\n",
      "34/34 [==============================] - 0s 3ms/step - loss: 0.0525 - accuracy: 0.9726\n",
      "Epoch 50/50\n",
      "34/34 [==============================] - 0s 3ms/step - loss: 0.0186 - accuracy: 0.9943\n"
     ]
    }
   ],
   "source": [
    "history = model.fit(X_train, y_train, epochs=50, batch_size=10)"
   ]
  },
  {
   "cell_type": "code",
   "execution_count": 159,
   "metadata": {},
   "outputs": [
    {
     "data": {
      "image/png": "[encoded data removed]",
      "text/plain": [
       "<Figure size 432x288 with 1 Axes>"
      ]
     },
     "metadata": {
      "needs_background": "light"
     },
     "output_type": "display_data"
    }
   ],
   "source": [
    "from matplotlib.pyplot import subplots, show\n",
    "hist = pd.DataFrame(history.history)\n",
    "fig = hist.plot()\n",
    "fig.set(title=\"Training Results\", \n",
    "        xlabel=\"Epochs\",\n",
    "        ylabel=\"Loss\")\n",
    "plt.show() "
   ]
  },
  {
   "cell_type": "markdown",
   "metadata": {},
   "source": [
    "# Evaluation"
   ]
  },
  {
   "cell_type": "markdown",
   "metadata": {},
   "source": [
    "The next step is to evaluate the performance on the validation dataset for the model. For this specific model, the training accuracy got to over 99%, while the accuracy on the test dataset was of 89.29%. Chances are that number could have been influenced by the oversampling of the full dataset. The loss graph shows a peak between the 20th and the 30th epochs during training and further exploration should include Dropout layers in an attempt to avoid over training the data.  "
   ]
  },
  {
   "cell_type": "code",
   "execution_count": 160,
   "metadata": {},
   "outputs": [
    {
     "name": "stdout",
     "output_type": "stream",
     "text": [
      "WARNING:tensorflow:5 out of the last 13 calls to <function Model.make_test_function.<locals>.test_function at 0x000001CAC9E7A700> triggered tf.function retracing. Tracing is expensive and the excessive number of tracings could be due to (1) creating @tf.function repeatedly in a loop, (2) passing tensors with different shapes, (3) passing Python objects instead of tensors. For (1), please define your @tf.function outside of the loop. For (2), @tf.function has experimental_relax_shapes=True option that relaxes argument shapes that can avoid unnecessary retracing. For (3), please refer to https://www.tensorflow.org/guide/function#controlling_retracing and https://www.tensorflow.org/api_docs/python/tf/function for  more details.\n",
      "3/3 - 0s - loss: 0.7913 - accuracy: 0.8929\n",
      "Accuracy: 89.29 percent\n"
     ]
    }
   ],
   "source": [
    "_, accuracy = model.evaluate(X_test, y_test, verbose=2)\n",
    "\n",
    "print('Accuracy: %.2f percent' % (accuracy*100))"
   ]
  },
  {
   "cell_type": "code",
   "execution_count": 161,
   "metadata": {},
   "outputs": [],
   "source": [
    "# model.save_weights('mynn_final.h5')"
   ]
  },
  {
   "cell_type": "code",
   "execution_count": 162,
   "metadata": {},
   "outputs": [],
   "source": [
    "# model.load_weights('mynn_final.h5')"
   ]
  },
  {
   "cell_type": "markdown",
   "metadata": {},
   "source": [
    "# Prediction\n",
    "\n",
    "After evaluating and finalizing the model parameters, we can go ahead with the prediction on the test data. Here we start a variable with the Sequential model to then apply the predict() function to the testing dataset. "
   ]
  },
  {
   "cell_type": "code",
   "execution_count": 163,
   "metadata": {},
   "outputs": [],
   "source": [
    "probability_model = tf.keras.Sequential([model, \n",
    "                                         tf.keras.layers.Softmax()])"
   ]
  },
  {
   "cell_type": "code",
   "execution_count": 164,
   "metadata": {},
   "outputs": [],
   "source": [
    "predictions = probability_model.predict(X_test) "
   ]
  },
  {
   "cell_type": "markdown",
   "metadata": {},
   "source": [
    "When printing the first ten records predicted by the model, we see an output composed of an array with the encoded values for each label. "
   ]
  },
  {
   "cell_type": "code",
   "execution_count": 165,
   "metadata": {},
   "outputs": [
    {
     "data": {
      "text/plain": [
       "array([[0.13 , 0.13 , 0.13 , 0.13 , 0.13 , 0.352],\n",
       "       [0.13 , 0.13 , 0.13 , 0.352, 0.13 , 0.13 ],\n",
       "       [0.352, 0.13 , 0.13 , 0.13 , 0.13 , 0.13 ],\n",
       "       [0.13 , 0.13 , 0.13 , 0.13 , 0.13 , 0.352],\n",
       "       [0.352, 0.13 , 0.13 , 0.13 , 0.13 , 0.13 ],\n",
       "       [0.13 , 0.13 , 0.13 , 0.352, 0.13 , 0.13 ],\n",
       "       [0.142, 0.132, 0.332, 0.132, 0.132, 0.132],\n",
       "       [0.13 , 0.13 , 0.13 , 0.13 , 0.352, 0.13 ],\n",
       "       [0.13 , 0.13 , 0.13 , 0.13 , 0.352, 0.13 ],\n",
       "       [0.337, 0.133, 0.137, 0.131, 0.131, 0.131]], dtype=float32)"
      ]
     },
     "execution_count": 165,
     "metadata": {},
     "output_type": "execute_result"
    }
   ],
   "source": [
    "predictions[:10]"
   ]
  },
  {
   "cell_type": "markdown",
   "metadata": {},
   "source": [
    "To see the actual label, we need to apply the argmax function to the results. Here the results are within a range from 0 to 5, with only the present labels, which excludes the original type 4. The new data dictionary for the target variable in this case will be:<br>\n",
    "0: 1 building windows float processed<br>\n",
    "1: 2 building windows non float processed<br>\n",
    "2: 3 vehicle windows float processed <br>\n",
    "3: 5 containers<br>\n",
    "4: 6 tableware<br>\n",
    "5: 7 headlamps"
   ]
  },
  {
   "cell_type": "code",
   "execution_count": 166,
   "metadata": {},
   "outputs": [
    {
     "name": "stdout",
     "output_type": "stream",
     "text": [
      "[5 3 0 5 0 3 2 4 4 0 5 3 3 5 0 2 2 4 0 2 4 5 2 0 3 3 5 5 5 2 5 3 5 3 4 3 0\n",
      " 4 3 3 4 1 5 5 0 4 4 1 4 3 0 3 2 2 2 5 2 3 3 5 0 4 1 3 5 1 3 2 1 2 2 2 0 4\n",
      " 5 1 1 3 5 5 3 2 4 0]\n"
     ]
    }
   ],
   "source": [
    "print(np.argmax(predictions, axis=1))"
   ]
  },
  {
   "cell_type": "code",
   "execution_count": 167,
   "metadata": {},
   "outputs": [
    {
     "data": {
      "text/plain": [
       "array([[0., 0., 0., 0., 0., 1.],\n",
       "       [0., 0., 0., 1., 0., 0.],\n",
       "       [1., 0., 0., 0., 0., 0.],\n",
       "       [0., 0., 0., 0., 0., 1.],\n",
       "       [1., 0., 0., 0., 0., 0.],\n",
       "       [0., 0., 0., 1., 0., 0.],\n",
       "       [0., 0., 1., 0., 0., 0.],\n",
       "       [0., 0., 0., 0., 1., 0.],\n",
       "       [0., 0., 0., 0., 1., 0.],\n",
       "       [1., 0., 0., 0., 0., 0.]], dtype=float32)"
      ]
     },
     "execution_count": 167,
     "metadata": {},
     "output_type": "execute_result"
    }
   ],
   "source": [
    "y_test[:10]"
   ]
  },
  {
   "cell_type": "markdown",
   "metadata": {},
   "source": [
    "In the two cells above, we can see that the first items predicted in of type 5 (previous 7) and that can be validated against the y_test first line representing the fifth type. In the cell below, we are printing a comparison of the predicted x expected results from the classification.  "
   ]
  },
  {
   "cell_type": "code",
   "execution_count": 168,
   "metadata": {},
   "outputs": [
    {
     "name": "stdout",
     "output_type": "stream",
     "text": [
      "[0.21733124750094954, 1.7366352278070465, -0.8860989805797219, 0.6346398165954632, -0.49229183737059984, -1.193254899765222, 0.5586355710511406, -0.4291930013504737, -0.5112014452171341] => 5 (expected 5)\n",
      "[0.9638159238199394, -0.7968620448454765, -0.5636090778802221, 1.596404459772901, -0.774497982041095, 1.3589183241406269, 0.6253357632363463, -0.0643158929690957, 4.135170075817903] => 3 (expected 3)\n",
      "[-1.0410409421391094, -0.40342602053069504, 0.8984379336724251, -0.5145379811159371, -0.026079216923041416, 0.7969975480741954, -0.7291223494053973, -0.4291930013504737, -0.5112014452171341] => 0 (expected 0)\n",
      "[0.8433645413529092, 0.506637893554819, -0.5283180593415766, 0.3392458494902297, -1.8154356331895145, 0.22135754471662572, 1.0826357935939876, -0.4291930013504737, 1.524466486583793] => 5 (expected 5)\n",
      "[1.02535005273825, 0.9795094847450817, -1.4269985080068395, 1.4010594475755729, 1.1422574262224268, -1.193254899765222, -0.6955660166164725, 2.663834932028955, -0.5112014452171341] => 0 (expected 0)\n",
      "[0.4088217202686997, 0.310770378168932, 0.16146014793067254, -0.7235507239560223, -0.05416019763537706, -1.193254899765222, 0.37894299857314445, -0.4291930013504737, -0.5112014452171341] => 3 (expected 3)\n",
      "[2.233703138410249, -0.16479237622224552, 0.796403490913144, -0.7532508518359805, -0.7127021747139686, 0.9830719378991589, -0.3688664692115578, -0.4291930013504737, -0.5112014452171341] => 2 (expected 2)\n",
      "[-0.36787959235464995, -0.9605615848469118, 1.0094240417078733, -0.6440011817033594, 0.40781730728541127, 0.9830719378991589, -0.5954015044471049, -0.4291930013504737, -0.5112014452171341] => 4 (expected 4)\n",
      "[0.013554072083415908, 0.8781835923882946, -1.4269985080068395, 1.506767431295596, 1.070401559244086, -1.193254899765222, -0.6017718037194465, 2.7012294239183188, -0.5112014452171341] => 4 (expected 4)\n",
      "[0.2882590924739579, 0.7019493530869012, -1.1130699396292487, 1.342719985693985, -0.09921503698354366, -1.193254899765222, 1.069276062070352, -0.4291930013504737, -0.5112014452171341] => 0 (expected 0)\n"
     ]
    }
   ],
   "source": [
    "for i in range(10):\n",
    "    print('%s => %d (expected %d)' % (X_train[i].tolist(), np.argmax(predictions[i]), np.argmax(y_test[i])))"
   ]
  },
  {
   "cell_type": "markdown",
   "metadata": {},
   "source": [
    "# Conclusion\n",
    "\n",
    "The achieved results are satisfactory. After the analysis, the preparation of the data, and a few tests with various configurations as well as changing the order of the data transformations, the final model is capable of classifying most of the records correctly. "
   ]
  },
  {
   "cell_type": "markdown",
   "metadata": {},
   "source": [
    "# References\n",
    "\n",
    "Brownlee, J., 2018. _How to Remove Outliers for Machine Learning_. [online] Machine Learning Mastery. Available at: <https://machinelearningmastery.com/how-to-use-statistics-to-identify-outliers-in-data/> [Accessed 23 May 2021].\n",
    "\n",
    "Brownlee, J., 2020 a. _Multi-Class Imbalanced Classification_. [online] Machine Learning Mastery. Available at: \n",
    "<https://machinelearningmastery.com/multi-class-imbalanced-classification/> [Accessed 22 May 2021].\n",
    "\n",
    "Brownlee, J., 2020 b. _SMOTE for Imbalanced Classification with Python_. [online] Machine Learning Mastery. Available at: <https://machinelearningmastery.com/smote-oversampling-for-imbalanced-classification/> [Accessed 24 May 2021].\n",
    "\n",
    "GeeksforGeeks. 2020. _Python Keras | keras.utils.to_categorical() - GeeksforGeeks_. [online] Available at: <https://www.geeksforgeeks.org/python-keras-keras-utils-to_categorical/> [Accessed 23 May 2021].\n",
    "\n",
    "Kaggle.com. 2020. _GlassClassification PCA and ANN_. [online] Available at: <https://www.kaggle.com/saaisudarsanand/glassclassification-pca-and-ann> [Accessed 24 May 2021].\n",
    "\n",
    "Lakshmanamoorthy, R., 2021. _Deep Learning Using TensorFlow Keras - Analytics India Magazine_. [online] Analytics India Magazine. Available at: <https://analyticsindiamag.com/deep-learning-using-tensorflow-keras/> [Accessed 26 May 2021].\n",
    "\n",
    "Ray, S., 2018. _Building your First Neural Network on a Structured Dataset (using Keras)_. [online] Medium. Available at: <https://medium.com/analytics-vidhya/build-your-first-neural-network-model-on-a-structured-dataset-using-keras-d9e7de5c6724> [Accessed 22 May 2021].\n",
    "\n",
    "Scikit-learn.org. 2020. 6.3. _Preprocessing data — scikit-learn 0.24.2 documentation_. [online] Available at: <https://scikit-learn.org/stable/modules/preprocessing.html> [Accessed 25 May 2021]."
   ]
  },
  {
   "cell_type": "code",
   "execution_count": null,
   "metadata": {},
   "outputs": [],
   "source": []
  }
 ],
 "metadata": {
  "kernelspec": {
   "display_name": "Python 3",
   "language": "python",
   "name": "python3"
  },
  "language_info": {
   "codemirror_mode": {
    "name": "ipython",
    "version": 3
   },
   "file_extension": ".py",
   "mimetype": "text/x-python",
   "name": "python",
   "nbconvert_exporter": "python",
   "pygments_lexer": "ipython3",
   "version": "3.8.3"
  }
 },
 "nbformat": 4,
 "nbformat_minor": 4
}